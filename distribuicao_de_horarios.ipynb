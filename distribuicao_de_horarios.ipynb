{
  "nbformat": 4,
  "nbformat_minor": 0,
  "metadata": {
    "colab": {
      "provenance": [],
      "authorship_tag": "ABX9TyP/I1m95k5R6GCcnGbeotwS",
      "include_colab_link": true
    },
    "kernelspec": {
      "name": "python3",
      "display_name": "Python 3"
    },
    "language_info": {
      "name": "python"
    }
  },
  "cells": [
    {
      "cell_type": "markdown",
      "metadata": {
        "id": "view-in-github",
        "colab_type": "text"
      },
      "source": [
        "<a href=\"https://colab.research.google.com/github/AnaTorres61/AnaTorres61/blob/main/distribuicao_de_horarios.ipynb\" target=\"_parent\"><img src=\"https://colab.research.google.com/assets/colab-badge.svg\" alt=\"Open In Colab\"/></a>"
      ]
    },
    {
      "cell_type": "markdown",
      "source": [
        "Instalar e Importar Z3"
      ],
      "metadata": {
        "id": "gy9lRf1Nbef9"
      }
    },
    {
      "cell_type": "code",
      "source": [
        "!pip install z3-solver"
      ],
      "metadata": {
        "colab": {
          "base_uri": "https://localhost:8080/"
        },
        "id": "RdGxXEkTimSC",
        "outputId": "b4c255ae-95db-404b-cef5-83e8cf29357e"
      },
      "execution_count": null,
      "outputs": [
        {
          "output_type": "stream",
          "name": "stdout",
          "text": [
            "Collecting z3-solver\n",
            "  Downloading z3_solver-4.12.2.0-py2.py3-none-manylinux2014_x86_64.whl (55.7 MB)\n",
            "\u001b[2K     \u001b[90m━━━━━━━━━━━━━━━━━━━━━━━━━━━━━━━━━━━━━━━━\u001b[0m \u001b[32m55.7/55.7 MB\u001b[0m \u001b[31m12.5 MB/s\u001b[0m eta \u001b[36m0:00:00\u001b[0m\n",
            "\u001b[?25hInstalling collected packages: z3-solver\n",
            "Successfully installed z3-solver-4.12.2.0\n"
          ]
        }
      ]
    },
    {
      "cell_type": "code",
      "source": [
        "from z3 import * #import the z3 solver"
      ],
      "metadata": {
        "id": "JXK98uCIim7Z"
      },
      "execution_count": null,
      "outputs": []
    },
    {
      "cell_type": "markdown",
      "source": [
        "Entrada"
      ],
      "metadata": {
        "id": "2Rt4NLZdbsW8"
      }
    },
    {
      "cell_type": "code",
      "source": [
        "# Dicionário de minicursos\n",
        "minicursos = {1: \"HTML\", 2: \"PHP\", 3: \"MySQL\", 4: \"Swift\"}\n",
        "\n",
        "cursos = len(minicursos)\n",
        "\n",
        "# Número de slots/horarios\n",
        "slots = 3\n",
        "\n",
        "# Pares de minicursos com inscrições em comum\n",
        "comum = [(1, 2), (2, 3), (2, 4), (3, 4)]"
      ],
      "metadata": {
        "id": "5RsZRCeJiwi1"
      },
      "execution_count": null,
      "outputs": []
    },
    {
      "cell_type": "markdown",
      "source": [
        "Criar variáveis"
      ],
      "metadata": {
        "id": "hVXTP-VIb4cp"
      }
    },
    {
      "cell_type": "markdown",
      "source": [
        "Criar restrições"
      ],
      "metadata": {
        "id": "Xt8Cf7jeb46w"
      }
    },
    {
      "cell_type": "markdown",
      "source": [
        "Testar satisfatibilidade e mostrar a saída"
      ],
      "metadata": {
        "id": "uOYuNvndb5UX"
      }
    }
  ]
}